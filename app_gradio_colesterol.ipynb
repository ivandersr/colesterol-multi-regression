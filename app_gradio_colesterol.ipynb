{
 "cells": [
  {
   "cell_type": "code",
   "execution_count": null,
   "metadata": {},
   "outputs": [],
   "source": [
    "import gradio as gr\n",
    "import joblib\n",
    "import pandas as pd"
   ]
  },
  {
   "cell_type": "code",
   "execution_count": null,
   "metadata": {},
   "outputs": [],
   "source": [
    "model = joblib.load('./colesterol_model.pkl')"
   ]
  },
  {
   "cell_type": "code",
   "execution_count": null,
   "metadata": {},
   "outputs": [],
   "source": [
    "\n",
    "def predict(blood_type, smoking, physical_activity_degree, age, weight, height):\n",
    "    smoking = 'Sim' if smoking else 'Não'\n",
    "    individual_prediction = {\n",
    "        'blood_type': blood_type,\n",
    "        'smoking': smoking,\n",
    "        'physical_activity_degree': physical_activity_degree,\n",
    "        'age': age,\n",
    "        'weight': weight,\n",
    "        'height': height\n",
    "    }\n",
    "\n",
    "    predict_df = pd.DataFrame(individual_prediction, index=[1])\n",
    "    colesterol_result = model.predict(predict_df)\n",
    "\n",
    "    return float(colesterol_result.reshape(-1))"
   ]
  },
  {
   "cell_type": "code",
   "execution_count": null,
   "metadata": {},
   "outputs": [],
   "source": [
    "predict('O', 'Sim', 'Alto', 20, 70, 178)"
   ]
  },
  {
   "cell_type": "code",
   "execution_count": null,
   "metadata": {},
   "outputs": [],
   "source": [
    "demo = gr.Interface(\n",
    "    fn=predict,\n",
    "    title='Estimativa de colesterol total',\n",
    "    inputs=[\n",
    "        gr.Radio(['O', 'A', 'B', 'AB'], label='Tipo sanguíneo'),\n",
    "        gr.Checkbox(label='Fumante'),\n",
    "        gr.Radio(['Baixo', 'Moderado', 'Alto'], label='Nível de atividade física'),\n",
    "        gr.Slider(20, 80, step=1, label='Idade'),\n",
    "        gr.Slider(40, 160, step=0.1, label='Peso'),\n",
    "        gr.Slider(150, 200, step=1, label='Altura')\n",
    "    ],\n",
    "    outputs=[\n",
    "        'number'\n",
    "    ]\n",
    ")"
   ]
  },
  {
   "cell_type": "code",
   "execution_count": null,
   "metadata": {},
   "outputs": [],
   "source": [
    "demo.launch(share=True)"
   ]
  }
 ],
 "metadata": {
  "kernelspec": {
   "display_name": ".venv",
   "language": "python",
   "name": "python3"
  },
  "language_info": {
   "codemirror_mode": {
    "name": "ipython",
    "version": 3
   },
   "file_extension": ".py",
   "mimetype": "text/x-python",
   "name": "python",
   "nbconvert_exporter": "python",
   "pygments_lexer": "ipython3",
   "version": "3.8.7"
  }
 },
 "nbformat": 4,
 "nbformat_minor": 2
}
