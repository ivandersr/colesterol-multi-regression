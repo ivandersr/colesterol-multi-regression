{
 "cells": [
  {
   "cell_type": "code",
   "execution_count": null,
   "metadata": {},
   "outputs": [],
   "source": [
    "import pandas as pd\n",
    "import seaborn as sns\n",
    "import matplotlib.pyplot as plt"
   ]
  },
  {
   "cell_type": "code",
   "execution_count": null,
   "metadata": {},
   "outputs": [],
   "source": [
    "df_colesterol = pd.read_csv('./datasets/colesterol.csv')"
   ]
  },
  {
   "cell_type": "code",
   "execution_count": null,
   "metadata": {},
   "outputs": [],
   "source": [
    "df_colesterol.info()"
   ]
  },
  {
   "cell_type": "code",
   "execution_count": null,
   "metadata": {},
   "outputs": [],
   "source": [
    "df_colesterol.describe()"
   ]
  },
  {
   "cell_type": "code",
   "execution_count": null,
   "metadata": {},
   "outputs": [],
   "source": [
    "df_colesterol.drop(columns=['Id'], axis=1, inplace=True)"
   ]
  },
  {
   "cell_type": "code",
   "execution_count": null,
   "metadata": {},
   "outputs": [],
   "source": [
    "df_colesterol.head(10)"
   ]
  },
  {
   "cell_type": "code",
   "execution_count": null,
   "metadata": {},
   "outputs": [],
   "source": [
    "df_colesterol.columns = [\n",
    "  'blood_type',\n",
    "  'smoking',\n",
    "  'physical_activity_degree',\n",
    "  'age',\n",
    "  'weight',\n",
    "  'height',\n",
    "  'colesterol_level'\n",
    "]"
   ]
  },
  {
   "cell_type": "code",
   "execution_count": null,
   "metadata": {},
   "outputs": [],
   "source": [
    "df_colesterol.head(10)"
   ]
  },
  {
   "cell_type": "code",
   "execution_count": null,
   "metadata": {},
   "outputs": [],
   "source": [
    "# Copiar dataframe para o EDA\n",
    "df_colesterol_eda = df_colesterol.copy()"
   ]
  },
  {
   "cell_type": "code",
   "execution_count": null,
   "metadata": {},
   "outputs": [],
   "source": [
    "# Copiar dataframe para bucketing\n",
    "df_colesterol_bucketing = df_colesterol.copy()"
   ]
  },
  {
   "cell_type": "markdown",
   "metadata": {},
   "source": [
    "### EDA"
   ]
  },
  {
   "cell_type": "code",
   "execution_count": null,
   "metadata": {},
   "outputs": [],
   "source": [
    "df_colesterol_eda.blood_type.unique()"
   ]
  },
  {
   "cell_type": "code",
   "execution_count": null,
   "metadata": {},
   "outputs": [],
   "source": [
    "df_colesterol_eda.smoking.unique()"
   ]
  },
  {
   "cell_type": "code",
   "execution_count": null,
   "metadata": {},
   "outputs": [],
   "source": [
    "df_colesterol_eda.physical_activity_degree.unique()"
   ]
  },
  {
   "cell_type": "code",
   "execution_count": null,
   "metadata": {},
   "outputs": [],
   "source": [
    "# Detectar valores ausentes\n",
    "df_colesterol_eda.isna().sum()"
   ]
  },
  {
   "cell_type": "code",
   "execution_count": null,
   "metadata": {},
   "outputs": [],
   "source": [
    "# Olhar para as medidas estatísticas do dataframe, \n",
    "# a fim de decidir qual parâmetro utilizar para preencher nulos\n",
    "df_colesterol_eda.describe()"
   ]
  },
  {
   "cell_type": "markdown",
   "metadata": {},
   "source": [
    "- age - mediana (média com valores fracionados, não adequado)\n",
    "- weight - mediana (valores próximos, mas percebe-se outliers)\n",
    "- height - mediana (valores muito próximos, e o número é inteiro em cm)\n",
    "- Para variáveis categóricas, utilizar a moda"
   ]
  },
  {
   "cell_type": "code",
   "execution_count": null,
   "metadata": {},
   "outputs": [],
   "source": [
    "# Coletar modas das categóricas\n",
    "mode_blood_type = df_colesterol_eda.blood_type.mode()[0]\n",
    "mode_smoking = df_colesterol_eda.smoking.mode()[0]\n",
    "mode_physical_act = df_colesterol_eda.physical_activity_degree.mode()[0]"
   ]
  },
  {
   "cell_type": "code",
   "execution_count": null,
   "metadata": {},
   "outputs": [],
   "source": [
    "# Coletar medianas das numéricas\n",
    "median_age = df_colesterol_eda.age.median()\n",
    "median_weight = df_colesterol_eda.weight.median()\n",
    "median_height = df_colesterol_eda.height.median()"
   ]
  },
  {
   "cell_type": "code",
   "execution_count": null,
   "metadata": {},
   "outputs": [],
   "source": [
    "# Input de valores ausentes\n",
    "df_colesterol_eda.fillna(value={\n",
    "  'blood_type': mode_blood_type,\n",
    "  'smoking': mode_smoking,\n",
    "  'physical_activity_degree': mode_physical_act,\n",
    "  'age': median_age,\n",
    "  'weight': median_weight,\n",
    "  'height': median_height\n",
    "}, inplace=True)"
   ]
  },
  {
   "cell_type": "code",
   "execution_count": null,
   "metadata": {},
   "outputs": [],
   "source": [
    "df_colesterol_eda.info()"
   ]
  },
  {
   "cell_type": "code",
   "execution_count": null,
   "metadata": {},
   "outputs": [],
   "source": [
    "# Converter idade e altura para inteiro\n",
    "df_colesterol_eda.age = df_colesterol_eda.age.astype(int)\n",
    "df_colesterol_eda.height = df_colesterol_eda.height.astype(int)"
   ]
  },
  {
   "cell_type": "code",
   "execution_count": null,
   "metadata": {},
   "outputs": [],
   "source": [
    "# Verificar outliers\n",
    "sns.boxplot(data=df_colesterol_eda, x='age')"
   ]
  },
  {
   "cell_type": "code",
   "execution_count": null,
   "metadata": {},
   "outputs": [],
   "source": [
    "sns.boxplot(data=df_colesterol_eda, x='height')"
   ]
  },
  {
   "cell_type": "code",
   "execution_count": null,
   "metadata": {},
   "outputs": [],
   "source": [
    "sns.boxplot(data=df_colesterol_eda, x='weight')"
   ]
  },
  {
   "cell_type": "code",
   "execution_count": null,
   "metadata": {},
   "outputs": [],
   "source": [
    "# Filtrar o público a ser removido\n",
    "df_colesterol_eda[df_colesterol_eda.weight < 40].weight.count()"
   ]
  },
  {
   "cell_type": "code",
   "execution_count": null,
   "metadata": {},
   "outputs": [],
   "source": [
    "# Remover púbico do dataframe\n",
    "df_colesterol_eda.drop(df_colesterol_eda[df_colesterol_eda.weight < 40].index, axis=0, inplace=True)"
   ]
  },
  {
   "cell_type": "code",
   "execution_count": null,
   "metadata": {},
   "outputs": [],
   "source": [
    "df_colesterol_eda.info()"
   ]
  },
  {
   "cell_type": "code",
   "execution_count": null,
   "metadata": {},
   "outputs": [],
   "source": [
    "sns.boxplot(data=df_colesterol_eda, x='weight')"
   ]
  },
  {
   "cell_type": "code",
   "execution_count": null,
   "metadata": {},
   "outputs": [],
   "source": [
    "sns.boxplot(data=df_colesterol_eda, x='colesterol_level')"
   ]
  },
  {
   "cell_type": "code",
   "execution_count": null,
   "metadata": {},
   "outputs": [],
   "source": [
    "# Cruzamento de variáveis categóricas com o nível de colesterol\n",
    "sns.boxplot(data=df_colesterol_eda, x='blood_type', y='colesterol_level')"
   ]
  },
  {
   "cell_type": "code",
   "execution_count": null,
   "metadata": {},
   "outputs": [],
   "source": [
    "sns.boxplot(data=df_colesterol_eda, x='physical_activity_degree', y='colesterol_level')"
   ]
  },
  {
   "cell_type": "code",
   "execution_count": null,
   "metadata": {},
   "outputs": [],
   "source": [
    "sns.boxplot(data=df_colesterol_eda, x='smoking', y='colesterol_level')"
   ]
  },
  {
   "cell_type": "code",
   "execution_count": null,
   "metadata": {},
   "outputs": [],
   "source": [
    "# Cruzamento das variáveis numericas com nível de colesterol\n",
    "sns.scatterplot(data=df_colesterol_eda, x='age', y='colesterol_level')"
   ]
  },
  {
   "cell_type": "code",
   "execution_count": null,
   "metadata": {},
   "outputs": [],
   "source": [
    "sns.scatterplot(data=df_colesterol_eda, x='weight', y='colesterol_level')"
   ]
  },
  {
   "cell_type": "code",
   "execution_count": null,
   "metadata": {},
   "outputs": [],
   "source": [
    "sns.scatterplot(data=df_colesterol_eda, x='height', y='colesterol_level')"
   ]
  },
  {
   "cell_type": "markdown",
   "metadata": {},
   "source": [
    "- Verifica-se que há uma certa correlação entre valores de colesterol e valores de peso"
   ]
  },
  {
   "cell_type": "code",
   "execution_count": null,
   "metadata": {},
   "outputs": [],
   "source": [
    "# Análise da distribuição das variáveis numéricas\n",
    "sns.pairplot(data=df_colesterol_eda)"
   ]
  },
  {
   "cell_type": "markdown",
   "metadata": {},
   "source": [
    "- Ajustar as variáveis categóricas para anáise de relação\n",
    "  - Variáveis nominais: blood_type, smoking (não são quantificadas, apenas categorizam)\n",
    "  - Variável ordinal: physical_activity_degree (baixo, moderado e alto)"
   ]
  },
  {
   "cell_type": "code",
   "execution_count": null,
   "metadata": {},
   "outputs": [],
   "source": [
    "# Converter nominais em numéricas, usando one-hot-encoding do pandas\n",
    "df_colesterol_eda = pd.get_dummies(df_colesterol_eda, columns=['blood_type', 'smoking'], dtype=int)"
   ]
  },
  {
   "cell_type": "code",
   "execution_count": null,
   "metadata": {},
   "outputs": [],
   "source": [
    "df_colesterol_eda.head(10)"
   ]
  },
  {
   "cell_type": "code",
   "execution_count": null,
   "metadata": {},
   "outputs": [],
   "source": [
    "# Converter variável categórica ordinal em numérica usando o factorize do Pandas\n",
    "df_colesterol_eda['physical_activity_degree'] = pd.factorize(df_colesterol_eda.physical_activity_degree)[0] + 1"
   ]
  },
  {
   "cell_type": "code",
   "execution_count": null,
   "metadata": {},
   "outputs": [],
   "source": [
    "df_colesterol_eda.head(10)"
   ]
  },
  {
   "cell_type": "code",
   "execution_count": null,
   "metadata": {},
   "outputs": [],
   "source": [
    "# Mapa de calor com correlação\n",
    "plt.figure(figsize=(15,6))\n",
    "sns.heatmap(df_colesterol_eda.corr(), annot=True, vmin=-1, vmax=1)"
   ]
  },
  {
   "cell_type": "code",
   "execution_count": null,
   "metadata": {},
   "outputs": [],
   "source": [
    "# Formato ranking, mostrar somente a correlação com o target (colesterol_level)\n",
    "sns.heatmap(df_colesterol_eda.corr()[['colesterol_level']].sort_values(by='colesterol_level', ascending=False), vmin=-1, vmax=1, annot=True, cmap='BrBG')"
   ]
  },
  {
   "cell_type": "code",
   "execution_count": null,
   "metadata": {},
   "outputs": [],
   "source": [
    "# Bucketing idade\n",
    "bins_age = [20, 30, 40, 50, 60, 70, 80]\n",
    "labels_age = ['20-29', '30-39', '40-49', '50-59', '60-69', '70-80']\n",
    "df_colesterol_bucketing['age_scale'] = pd.cut(x=df_colesterol_bucketing['age'], bins=bins_age, labels=labels_age, include_lowest=True)"
   ]
  },
  {
   "cell_type": "code",
   "execution_count": null,
   "metadata": {},
   "outputs": [],
   "source": [
    "df_colesterol_bucketing.head(10)"
   ]
  },
  {
   "cell_type": "code",
   "execution_count": null,
   "metadata": {},
   "outputs": [],
   "source": [
    "sns.boxplot(data=df_colesterol_bucketing, x='age_scale', y='colesterol_level')"
   ]
  },
  {
   "cell_type": "code",
   "execution_count": null,
   "metadata": {},
   "outputs": [],
   "source": [
    "# Bucketing peso\n",
    "bins_weight = [40, 50, 60, 70, 80, 90, 100, 110, 120, 200]\n",
    "labels_weight = ['40-50', '50-60', '60-70', '70-80', '80-90', '90-100', '100-110', '110-120', '120+']\n",
    "df_colesterol_bucketing['weight_scale'] = pd.cut(x=df_colesterol_bucketing['weight'], bins=bins_weight, labels=labels_weight, include_lowest=True)\n"
   ]
  },
  {
   "cell_type": "code",
   "execution_count": null,
   "metadata": {},
   "outputs": [],
   "source": [
    "sns.boxplot(data=df_colesterol_bucketing, x='weight_scale', y='colesterol_level')"
   ]
  },
  {
   "cell_type": "markdown",
   "metadata": {},
   "source": [
    "### Treinar modelo"
   ]
  },
  {
   "cell_type": "code",
   "execution_count": null,
   "metadata": {},
   "outputs": [],
   "source": [
    "from sklearn.model_selection import train_test_split\n",
    "from sklearn.linear_model import LinearRegression\n",
    "from sklearn.preprocessing import StandardScaler, OneHotEncoder, OrdinalEncoder\n",
    "from sklearn.compose import ColumnTransformer\n",
    "from sklearn.pipeline import Pipeline\n",
    "from sklearn.impute import SimpleImputer\n",
    "from sklearn.metrics import r2_score, mean_absolute_error, mean_squared_error"
   ]
  },
  {
   "cell_type": "code",
   "execution_count": null,
   "metadata": {},
   "outputs": [],
   "source": [
    "# Criar Dataset de Treino e Teste\n",
    "df_colesterol.drop(df_colesterol[df_colesterol['weight'] < 40].index, axis=0, inplace=True)"
   ]
  },
  {
   "cell_type": "code",
   "execution_count": null,
   "metadata": {},
   "outputs": [],
   "source": [
    "df_colesterol.info()"
   ]
  },
  {
   "cell_type": "code",
   "execution_count": null,
   "metadata": {},
   "outputs": [],
   "source": [
    "X = df_colesterol.drop(columns=['colesterol_level'])\n",
    "y = df_colesterol['colesterol_level']\n",
    "X_train, X_test, y_train, y_test = train_test_split(X, y, train_size=0.7, random_state=51)"
   ]
  },
  {
   "cell_type": "code",
   "execution_count": null,
   "metadata": {},
   "outputs": [],
   "source": [
    "X_train.shape"
   ]
  },
  {
   "cell_type": "markdown",
   "metadata": {},
   "source": [
    "##### Pipeline\n",
    "- Imputar moda nas variáveis categóricas - blood_type, smoking, physical_activity_degree\n",
    "- Padronizar variáveis numéricas (z score) - age, height, weight\n",
    "- One-hot encoding para variáveis categóricas nominais - blood_type, smoking\n",
    "- Ordinal encoding para variáveis categóricas ordinais - physical_activity_degree\n",
    "- Imputar mediana nas variáveis numéricas - age, height, weight"
   ]
  },
  {
   "cell_type": "code",
   "execution_count": null,
   "metadata": {},
   "outputs": [],
   "source": [
    "nominal_columns = ['blood_type', 'smoking']\n",
    "ordinal_columns = ['physical_activity_degree']\n",
    "numerical_columns = ['age', 'height', 'weight']"
   ]
  },
  {
   "cell_type": "code",
   "execution_count": null,
   "metadata": {},
   "outputs": [],
   "source": [
    "# Pipeline: transformer\n",
    "nominal_transformer = Pipeline(steps=[\n",
    "    ('nominal_imputer', SimpleImputer(strategy='most_frequent')),\n",
    "    ('encode', OneHotEncoder(handle_unknown='ignore'))\n",
    "])"
   ]
  },
  {
   "cell_type": "code",
   "execution_count": null,
   "metadata": {},
   "outputs": [],
   "source": [
    "ordinal_transformer = Pipeline(steps=[\n",
    "    ('ordinal_imputer', SimpleImputer(strategy='most_frequent')),\n",
    "    ('encode', OrdinalEncoder(categories=[['Baixo', 'Moderado', 'Alto']], handle_unknown='error'))\n",
    "])"
   ]
  },
  {
   "cell_type": "code",
   "execution_count": null,
   "metadata": {},
   "outputs": [],
   "source": [
    "numerical_transformer = Pipeline(steps=[\n",
    "    ('numerical_imputer', SimpleImputer(strategy='median')),\n",
    "    ('encode', StandardScaler())\n",
    "])"
   ]
  },
  {
   "cell_type": "code",
   "execution_count": null,
   "metadata": {},
   "outputs": [],
   "source": [
    "# Criar um ColumnTransformer para encapsular todas as transformações necessárias\n",
    "# Arg transformers: lista de tuplas contendo (label, transformer, colunas)\n",
    "preprocessor = ColumnTransformer(\n",
    "    transformers=[\n",
    "        ('num', numerical_transformer, numerical_columns),\n",
    "        ('nom', nominal_transformer, nominal_columns),\n",
    "        ('ord', ordinal_transformer, ordinal_columns)\n",
    "    ]\n",
    ")"
   ]
  },
  {
   "cell_type": "code",
   "execution_count": null,
   "metadata": {},
   "outputs": [],
   "source": [
    "# Criando o Pipeline principal = Pré processamento + Treinamento\n",
    "regression_model = Pipeline(\n",
    "    steps=[\n",
    "        ('preprocessor', preprocessor),\n",
    "        ('regressor', LinearRegression())\n",
    "    ]\n",
    ")"
   ]
  },
  {
   "cell_type": "code",
   "execution_count": null,
   "metadata": {},
   "outputs": [],
   "source": [
    "# Treinar o modelo\n",
    "regression_model.fit(X_train, y_train)"
   ]
  },
  {
   "cell_type": "markdown",
   "metadata": {},
   "source": [
    "### Análise de métricas"
   ]
  },
  {
   "cell_type": "code",
   "execution_count": null,
   "metadata": {},
   "outputs": [],
   "source": [
    "y_pred = regression_model.predict(X_test)"
   ]
  },
  {
   "cell_type": "code",
   "execution_count": null,
   "metadata": {},
   "outputs": [],
   "source": [
    "r2_score(y_test, y_pred)"
   ]
  },
  {
   "cell_type": "code",
   "execution_count": null,
   "metadata": {},
   "outputs": [],
   "source": [
    "mean_absolute_error(y_test, y_pred)"
   ]
  },
  {
   "cell_type": "code",
   "execution_count": null,
   "metadata": {},
   "outputs": [],
   "source": [
    "mean_squared_error(y_test, y_pred, squared=False)"
   ]
  },
  {
   "cell_type": "markdown",
   "metadata": {},
   "source": [
    "### Análise de resíduos"
   ]
  },
  {
   "cell_type": "code",
   "execution_count": null,
   "metadata": {},
   "outputs": [],
   "source": [
    "residual = y_test - y_pred"
   ]
  },
  {
   "cell_type": "code",
   "execution_count": null,
   "metadata": {},
   "outputs": [],
   "source": [
    "from scipy.stats import zscore\n",
    "residual_std = zscore(residual)"
   ]
  },
  {
   "cell_type": "code",
   "execution_count": null,
   "metadata": {},
   "outputs": [],
   "source": [
    "sns.scatterplot(x=y_pred, y=residual_std)\n",
    "plt.axhline(y=0, color='#000', linewidth=0.8)\n",
    "plt.axhline(y=-2, linestyle='--', color='#c62500', linewidth=0.8)\n",
    "plt.axhline(y=2, linestyle='--', color='#c62500', linewidth=0.8)"
   ]
  },
  {
   "cell_type": "code",
   "execution_count": null,
   "metadata": {},
   "outputs": [],
   "source": [
    "# Verificar se resíduos seguem uma distribuição normal\n",
    "import pingouin as pg\n",
    "plt.figure(figsize=(16,8))\n",
    "pg.qqplot(residual_std, dist='norm', confidence=0.95, marker='.')"
   ]
  },
  {
   "cell_type": "code",
   "execution_count": null,
   "metadata": {},
   "outputs": [],
   "source": [
    "# Testes de normalidade\n",
    "from scipy.stats import shapiro, kstest, anderson\n",
    "from statsmodels.stats.diagnostic import lilliefors, het_goldfeldquandt"
   ]
  },
  {
   "cell_type": "code",
   "execution_count": null,
   "metadata": {},
   "outputs": [],
   "source": [
    "# Teste de Shapiro-Wilk: H0 diz que os dados seguem uma distribuição normal\n",
    "stat_shapiro, p_value_shapiro = shapiro(residual)\n",
    "print(\"Estatística do teste: {} e P-Value: {}\".format(stat_shapiro, p_value_shapiro))"
   ]
  },
  {
   "cell_type": "code",
   "execution_count": null,
   "metadata": {},
   "outputs": [],
   "source": [
    "# Teste de Kolmogorov-Smirnov\n",
    "stat_ks, p_value_ks = kstest(residual, 'norm')\n",
    "print(\"Estatística do teste: {} e P-Value: {}\".format(stat_ks, p_value_ks))"
   ]
  },
  {
   "cell_type": "code",
   "execution_count": null,
   "metadata": {},
   "outputs": [],
   "source": [
    "# Teste de Lilliefors\n",
    "stat_ll, p_value_ll = lilliefors(residual, dist='norm', pvalmethod='table')\n",
    "print(\"Estatística do teste: {} e P-Value: {}\".format(stat_ll, p_value_ll))"
   ]
  },
  {
   "cell_type": "code",
   "execution_count": null,
   "metadata": {},
   "outputs": [],
   "source": [
    "# Teste de Anderson-Darling\n",
    "# Se a estatística é maior que o valor crítico para uma dada confiança, rejeita-se H0. Ou seja, a distribuição não será normal\n",
    "stat_ad, critical_ad, significance_ad = anderson(residual, dist='norm')"
   ]
  },
  {
   "cell_type": "code",
   "execution_count": null,
   "metadata": {},
   "outputs": [],
   "source": [
    "critical_ad"
   ]
  },
  {
   "cell_type": "code",
   "execution_count": null,
   "metadata": {},
   "outputs": [],
   "source": [
    "significance_ad"
   ]
  },
  {
   "cell_type": "code",
   "execution_count": null,
   "metadata": {},
   "outputs": [],
   "source": [
    "print(\"Estatísitca do teste: {} e Valor crítico: {}\".format(stat_ad, critical_ad[2]))"
   ]
  },
  {
   "cell_type": "code",
   "execution_count": null,
   "metadata": {},
   "outputs": [],
   "source": [
    "# Teste de homocedasticidade de Goldfeld-Quandt\n",
    "pipe = Pipeline(steps=[('preprocessor', preprocessor)])\n",
    "X_test_transformed = pipe.fit_transform(X_test)"
   ]
  },
  {
   "cell_type": "code",
   "execution_count": null,
   "metadata": {},
   "outputs": [],
   "source": [
    "X_test_transformed"
   ]
  },
  {
   "cell_type": "code",
   "execution_count": null,
   "metadata": {},
   "outputs": [],
   "source": [
    "# H0: há homocedasticidade\n",
    "goldfeld_test = het_goldfeldquandt(residual, X_test_transformed)\n",
    "stat_goldfeld = goldfeld_test[0]\n",
    "p_value_goldfield = goldfeld_test[1]\n",
    "print(\"Estatística do teste: {} e P-Valor: {}\".format(stat_goldfeld, p_value_goldfield))"
   ]
  },
  {
   "cell_type": "markdown",
   "metadata": {},
   "source": [
    "### Realizar predições individuais"
   ]
  },
  {
   "cell_type": "code",
   "execution_count": null,
   "metadata": {},
   "outputs": [],
   "source": [
    "individual_prediction = {\n",
    "    'blood_type': 'O',\n",
    "    'smoking': 'Não',\n",
    "    'physical_activity_degree': 'Alto',\n",
    "    'age': 40,\n",
    "    'weight': 70,\n",
    "    'height': 180\n",
    "}\n",
    "\n",
    "sample_df = pd.DataFrame(individual_prediction, index=[1])"
   ]
  },
  {
   "cell_type": "code",
   "execution_count": null,
   "metadata": {},
   "outputs": [],
   "source": [
    "sample_df"
   ]
  },
  {
   "cell_type": "code",
   "execution_count": null,
   "metadata": {},
   "outputs": [],
   "source": [
    "regression_model.predict(sample_df)"
   ]
  },
  {
   "cell_type": "code",
   "execution_count": null,
   "metadata": {},
   "outputs": [],
   "source": [
    "# Salvar modelo\n",
    "import joblib\n",
    "joblib.dump(regression_model, './colesterol_model.pkl')"
   ]
  },
  {
   "cell_type": "code",
   "execution_count": null,
   "metadata": {},
   "outputs": [],
   "source": []
  }
 ],
 "metadata": {
  "kernelspec": {
   "display_name": ".venv",
   "language": "python",
   "name": "python3"
  },
  "language_info": {
   "codemirror_mode": {
    "name": "ipython",
    "version": 3
   },
   "file_extension": ".py",
   "mimetype": "text/x-python",
   "name": "python",
   "nbconvert_exporter": "python",
   "pygments_lexer": "ipython3",
   "version": "3.8.7"
  }
 },
 "nbformat": 4,
 "nbformat_minor": 2
}
